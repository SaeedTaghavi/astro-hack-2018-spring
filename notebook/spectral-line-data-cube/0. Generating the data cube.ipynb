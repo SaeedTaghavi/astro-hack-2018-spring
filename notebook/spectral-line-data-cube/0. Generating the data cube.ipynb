{
 "cells": [
  {
   "cell_type": "markdown",
   "metadata": {},
   "source": [
    "# Generating the data cube\n",
    "\n",
    "\n",
    "## What is a data cube?\n",
    "A spectral line data cube is a type of astronomical data set that usual includes one spectral dimension and two spatial dimensions. The spectral dimension may represent the physical quantities of wavelength ($\\lambda$), frequency ($\\nu$), or velocity ($v$). Generally we call the images in the spectral dimension **channels**, which then have some width, $\\Delta \\lambda$ or $\\Delta \\nu$ or $\\Delta v$. In the context of extragalactic astronomy, and usually *with respect to a particular spectral line*, these quantities are all connected by the definition of **redshift**, $z$:\n",
    "\n",
    "$$ \\frac{\\Delta v}{c} = \\frac{\\Delta \\lambda}{\\lambda_{\\rm obs}} = \\frac{\\Delta \\nu}{\\nu_{\\rm obs}},$$\n",
    "\n",
    "where $c$ is the speed of light, and for that spectral line, the observed wavelength is defined $\\lambda_{\\rm obs} = \\lambda_{\\rm rest} (1+z)$, and the observed frequency is defined $\\nu_{\\rm obs} = \\nu_{\\rm rest}/(1+z)$).\n",
    "\n",
    "## What does a galaxy spectrum look like?\n",
    "We often see a continuum component and spectral emission or absorption lines in a galaxy spectrum. This obviously will depend on the source gaalaxy, and at which wavelength/frequency/energy we're looking.\n",
    "\n",
    "In our case, we will consider a power-law continuum of the form\n",
    "$$ F_{\\rm \\nu}^{\\rm (cont)} = F_{\\nu, 0} \\Big(\\frac{\\nu}{\\nu_0}\\Big)^{\\alpha},$$\n",
    "where $F_{\\nu, 0}$ is the flux density at some point-of-reference frequency $\\nu_0$. $\\alpha$ is often called the **power-law slope** or **spectral index**, and this is because it is equal to the log-log slope of the flux density: $\\alpha \\equiv d \\log F_\\nu / d\\log \\nu$. $\\nu_0$ is arbitrary since it covaries with $F_{\\nu, 0}$, so we can just select a reference frequency.\n",
    "\n",
    "A simple spectral line model is a Gaussian distribution:\n",
    "$$ F_{\\rm \\nu}^{\\rm (line)} = \\frac{F^{\\rm (line)}}{\\sqrt{2 \\pi \\sigma^2}}\\exp \\Bigg [ \\frac{\\big(\\nu - \\nu_{\\rm rest}/(1+z)\\big)^2}{2\\sigma^2}\\Bigg ]. $$\n",
    "Here $\\sigma$ parameterizes the width of the line (usually a function of velocity dispersion), and $F^{\\rm (line)}$ is the total integrated line flux. $\\nu_{\\rm rest}/(1+z)$ is the observed (redshifted) spectral line frequency.\n",
    "\n",
    "In total, we have five degrees of freedom: $F_\\nu^{\\rm (cont)}$, $\\alpha$, $F^{\\rm (line)}$, $z$, and $\\sigma$.\n",
    "\n",
    "## An example below"
   ]
  },
  {
   "cell_type": "code",
   "execution_count": 1,
   "metadata": {},
   "outputs": [],
   "source": [
    "import matplotlib.pyplot as plt\n",
    "import numpy as np\n",
    "import os\n",
    "%matplotlib inline \n",
    "\n",
    "# constants\n",
    "CO_REST_FREQUENCY = 115.27    # CO (1-0) rotational transition in GHz\n",
    "\n",
    "# parameters\n",
    "flux_density_cont = 2.4\n",
    "continuum_index = -0.8\n",
    "line_flux = 0.03\n",
    "z = 0.3\n",
    "velocity_width = 250          # km/s\n",
    "\n",
    "# convert velocity to frequency [GHz]\n",
    "SPEED_OF_LIGHT = 3e5          # km/s\n",
    "line_sigma = CO_REST_FREQUENCY * velocity_width / SPEED_OF_LIGHT\n",
    "\n",
    "model_params = [flux_density_cont, continuum_index, line_flux, z, line_sigma]\n",
    "\n",
    "# make an array of wavelengths near the redshifted CO line\n",
    "N_k = 128                     # number of channels, note k -> spectral dimension\n",
    "channel_width = 0.05          # [GHz]\n",
    "frequencies = np.linspace(-N_k/2+1, N_k/2, N_k) * channel_width + CO_REST_FREQUENCY/(1+z)\n",
    "\n",
    "def model_spectrum(frequencies, *parameters):\n",
    "    \"\"\"Generate a model spectrum using a simple five-parameter model.\n",
    "    Two parameters determine the continuum flux density and three\n",
    "    parameters determine the spectral line flux density.\n",
    "    \n",
    "    Note that the point-of-reference continuum frequency is the CO (1-0) \n",
    "    rest frequency.\n",
    "    \"\"\"\n",
    "    flux_density_cont, continuum_index, line_flux, z, line_sigma = parameters\n",
    "    \n",
    "    return flux_density_cont * (frequencies/CO_REST_FREQUENCY)**continuum_index +\\\n",
    "            line_flux/(2*np.pi * line_sigma**2) * \\\n",
    "            np.exp(-(frequencies-CO_REST_FREQUENCY/(1+z))**2/(2*line_sigma**2))"
   ]
  },
  {
   "cell_type": "code",
   "execution_count": 2,
   "metadata": {},
   "outputs": [
    {
     "data": {
      "image/png": "[encoded data removed]",
      "text/plain": [
       "<matplotlib.figure.Figure at 0x7f032c59cf60>"
      ]
     },
     "metadata": {},
     "output_type": "display_data"
    }
   ],
   "source": [
    "# generate spectrum and plot\n",
    "spectrum = model_spectrum(frequencies, *model_params)\n",
    "\n",
    "plt.figure(figsize=(10, 4))\n",
    "plt.plot(frequencies, spectrum)\n",
    "plt.xlabel(r'$\\nu_{\\rm obs}$ [GHz]')\n",
    "plt.ylabel(r'$F_\\nu$ [arb.]')\n",
    "plt.show();"
   ]
  },
  {
   "cell_type": "code",
   "execution_count": null,
   "metadata": {},
   "outputs": [],
   "source": []
  }
 ],
 "metadata": {
  "kernelspec": {
   "display_name": "Python 3",
   "language": "python",
   "name": "python3"
  },
  "language_info": {
   "codemirror_mode": {
    "name": "ipython",
    "version": 3
   },
   "file_extension": ".py",
   "mimetype": "text/x-python",
   "name": "python",
   "nbconvert_exporter": "python",
   "pygments_lexer": "ipython3",
   "version": "3.6.3"
  }
 },
 "nbformat": 4,
 "nbformat_minor": 2
}
