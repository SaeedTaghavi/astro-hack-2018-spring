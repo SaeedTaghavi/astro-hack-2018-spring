{
 "cells": [
  {
   "cell_type": "markdown",
   "metadata": {},
   "source": [
    "# Fitting noisy astronomical data\n",
    "\n",
    "In the [previous notebook](1. Fitting astronomical images and spectra.ipynb), we had a good time fitting (synthetic) data cubes using a simple model of the continuum + spectral line emission and a simple Gaussian spatial model. We will continue to use the same model, but now we will attempt to fit the data cube in the presence of *heteroscedastic* noise. \n",
    "\n",
    "Heteroscedasticity just means that the noise (and therefore uncertainty) is not distributed uniformly and may be correlated. I have generated a synthetic noise profile that varies with channel but is not correlated on spatial scales -- so don't worry about that!\n",
    "\n",
    "Let's begin by loading the noisy data set and plotting it."
   ]
  },
  {
   "cell_type": "code",
   "execution_count": null,
   "metadata": {},
   "outputs": [],
   "source": [
    "import matplotlib.pyplot as plt\n",
    "import numpy as np\n",
    "import os\n",
    "%matplotlib inline\n",
    "\n",
    "# operating system-independent file paths...\n",
    "root_dir = os.path.abspath(os.path.join(os.getcwd(), '..', '..'))\n",
    "frequencies_fname = os.path.join(root_dir, 'data', 'frequencies.npy')\n",
    "noisy_cube_fname = os.path.join(root_dir, 'data', 'noisy_cube.npy')\n",
    "\n",
    "# loading the data\n",
    "frequencies = np.load(frequencies_fname)\n",
    "noisy_cube = np.load(noisy_cube_fname)\n",
    "\n",
    "# inspect size of data\n",
    "print(frequencies.shape)\n",
    "print(noisy_cube.shape)\n",
    "\n",
    "N_k, N_i, N_j = noisy_cube.shape"
   ]
  },
  {
   "cell_type": "code",
   "execution_count": null,
   "metadata": {},
   "outputs": [],
   "source": [
    "# plot a spectrum through middle pixel\n",
    "i, j = 16, 16\n",
    "\n",
    "plt.figure(figsize=(12, 4))\n",
    "plt.plot(frequencies, noisy_cube[:, i, j])\n",
    "plt.xlabel('Frequency [GHz]')\n",
    "plt.ylabel('Spectrum');"
   ]
  },
  {
   "cell_type": "markdown",
   "metadata": {},
   "source": [
    "Looks reasonable. We can still see a spectral line around 98 GHz, and that there is a positive continuum with amplitude of $\\sim 1$."
   ]
  },
  {
   "cell_type": "code",
   "execution_count": null,
   "metadata": {},
   "outputs": [],
   "source": [
    "# plot a random channel/slice of the cube\n",
    "k = 130\n",
    "\n",
    "plt.figure(figsize=(10, 8))\n",
    "plt.imshow(noisy_cube[k], origin='lower')\n",
    "plt.colorbar();"
   ]
  },
  {
   "cell_type": "markdown",
   "metadata": {},
   "source": [
    "## The chi-squared objective function\n",
    "So we can see right off the bat that fitting these data will be harder. Thankfully, we can leverage a better objective function if we have an estimate of uncertainties, the $\\chi^2$ (chi-squared) function:\n",
    "\n",
    "$$\\chi^2 = \\sum_{k=1}^{N_k} \\frac{\\big (y_k - \\hat y(x_k; \\vec \\theta) \\big)^2}{\\sigma_{y_k}^2}. $$\n",
    "\n",
    "This objective function is better than using a squared error function because each error term is now scaled by the estimated uncertainty, $\\sigma_{y_k}$(or variance $\\sigma_{y_k}^2$).\n",
    "The *reduced* $\\chi^2$ is the chi-squared divided by the number of degrees of freedom, $\\nu$; in our case, if we have a number of model parameters $N_\\theta$, then $\\nu = N_k - N_\\theta$. Thus, \n",
    "$$\\chi^2_\\nu \\equiv \\frac{\\chi^2}{N_k - N_\\theta}.$$  \n",
    "Conceivably, if we are not overfitting or underfitting our data, and if our **uncertainties are properly estimated**, then $\\chi^2_\\nu \\rightarrow 1$.\n",
    "\n",
    "This all folds into the $\\chi^2$ goodness-of-fit test, which we'll talk about during Session 2.\n",
    "\n",
    "## Exercise 1\n",
    "\n",
    "Our first order of business is to make a good estimate of the uncertainties. We want an estimate of the variance, $\\sigma_k^2$ at **every channel** $k$. Complete the code below to find these variances, stored in the variable `variances`, which should have length `N_k = 256`. If all goes well, you should see a plot in the cell below like: ![Exercse 1 answer](../../doc/answers/1-2_ex1.png)"
   ]
  },
  {
   "cell_type": "code",
   "execution_count": null,
   "metadata": {},
   "outputs": [],
   "source": [
    "variances = np.zeros((N_k,))\n",
    "\n",
    "# fill out the code below and find variances\n",
    "# ------------------------------------------\n",
    "\n",
    "# hint: You can take the standard deviation along an axis\n",
    "#   using the `axis` parameter in the `np.nanstd` function.\n",
    "#   You can simultaneous do this along two dimensions by\n",
    "#   entering a tuple as the argument, e.g., `axis=(0, 2)`\n",
    "#   if you want to take it along the zeroth and second\n",
    "#   dimensions, which will result in an output the same\n",
    "#   length as the first dimension.\n"
   ]
  },
  {
   "cell_type": "code",
   "execution_count": null,
   "metadata": {},
   "outputs": [],
   "source": [
    "# plot the spectrum with your newfound uncertainties\n",
    "uncertainties = np.sqrt(variances)\n",
    "\n",
    "plt.figure(figsize=(12, 4))\n",
    "spectrum = noisy_cube[:, 16, 16]\n",
    "plt.plot(frequencies, spectrum)\n",
    "plt.fill_between(frequencies, y1=spectrum - uncertainties, y2=spectrum + uncertainties, alpha=0.3)\n",
    "\n",
    "plt.xlabel('Frequency [GHz]')\n",
    "plt.ylabel('Spectrum');"
   ]
  },
  {
   "cell_type": "markdown",
   "metadata": {},
   "source": [
    "## Exercise 2\n",
    "\n",
    "Now that we have estimated uncertainties, we can compute the $\\chi^2$ cost function. Complete the two functions below to evaluate the cost for a spectral model, and we will plot it for you. We will again use the model:\n",
    "\n",
    "\\begin{equation} \n",
    "\\hat y(\\nu; \\vec\\theta) = F_\\nu (\\nu; A, \\nu_{\\rm obs}, \\sigma_\\nu, K)\\\\\n",
    "\\ \\ \\ \\ \\ \\ \\ \\ \\ \\ \\ = A \\Bigg [ \\frac{\\big (\\nu - \\nu_{\\rm obs} \\big)^2}{2 \\sigma_\\nu^2} \\Bigg] + K.\n",
    "\\end{equation}\n",
    "\n",
    "and the cost function (which is a function of $\\nu$, $y$, and $\\sigma_{y_k}^2$):\n",
    "$$\\chi^2(\\nu, y, \\sigma_{y_k}^2) = \\sum_{k=1}^{N_k} \\frac{\\big (y_k - \\hat y(x_k; \\vec \\theta) \\big)^2}{\\sigma_{y_k}^2}. $$\n",
    "\n",
    "If you're lazy, you can copy and paste the spectrum model from the previous notebook. Supposing that all goes well, you can expect to see a figure like this:\n",
    "\n",
    "![Exercise 2 solutions](../../doc/answers/1-2_ex2.png)"
   ]
  },
  {
   "cell_type": "code",
   "execution_count": null,
   "metadata": {},
   "outputs": [],
   "source": [
    "def model_spectrum(x, *parameters):\n",
    "    \"\"\"Returns an array of the same length as `x` (given) that \n",
    "    produces a model of a spectrum with a flat continuum and\n",
    "    single spectral emission line.\n",
    "    \"\"\"\n",
    "    \n",
    "    # unpack the parameters\n",
    "    line_amplitude, line_frequency, line_sigma, continuum_amplitiude = parameters\n",
    "    \n",
    "    model = np.zeros_like(x)\n",
    "    \n",
    "    # fill out code below\n",
    "    # -------------------    \n",
    "    \n",
    "    return model\n",
    "\n",
    "def chi_squared(params, x, y, y_sigma):\n",
    "    \"\"\"Given the data and uncertainties and model parameters, \n",
    "    calculate the total chi-squared cost (not the reduced\n",
    "    chi-squared cost).\n",
    "    \"\"\"\n",
    "    \n",
    "    chi2 = 0\n",
    "    \n",
    "    # fill out code below\n",
    "    # -------------------\n",
    "    \n",
    "    \n",
    "    return chi2"
   ]
  },
  {
   "cell_type": "code",
   "execution_count": null,
   "metadata": {},
   "outputs": [],
   "source": [
    "# we will now compare chi-squared values for a few model examples\n",
    "\n",
    "model_params_1 = [5, 98, 0.2, 1]\n",
    "model_params_2 = [0, 98, 1, 1.]\n",
    "model_params_3 = [4.55, 97.7, 0.1, 1.]\n",
    "\n",
    "# set up plot\n",
    "fig, axes = plt.subplots(3, 1, sharex=True, figsize=(12, 12))\n",
    "\n",
    "# evaluate chi-squared\n",
    "for i, [params, ax] in enumerate(zip([model_params_1, model_params_2, model_params_3], axes.flat)):\n",
    "    model = model_spectrum(frequencies, *params)\n",
    "    chi2 = chi_squared(params, frequencies, spectrum, uncertainties)\n",
    "    \n",
    "    # compute reduced chi-squared\n",
    "    chi2_nu = chi2 / (N_k - len(params))\n",
    "    \n",
    "    \n",
    "    # and plot data\n",
    "    ax.plot(frequencies, spectrum, label='Data')\n",
    "    ax.fill_between(frequencies, y1=spectrum - uncertainties, y2=spectrum + uncertainties, alpha=0.3)\n",
    "    \n",
    "    # plot model labeled with chi-squared value\n",
    "    ax.plot(frequencies, model, label=r'Model {:d} ($\\chi_\\nu^2 = {:.2f}$)'.format(i + 1, chi2_nu))\n",
    "    \n",
    "    ax.set_xlabel('Frequency [GHz]')\n",
    "    ax.set_ylabel('Spectrum')\n",
    "    ax.legend()\n",
    "\n",
    "fig.subplots_adjust(hspace=0)\n",
    "plt.show();"
   ]
  },
  {
   "cell_type": "markdown",
   "metadata": {},
   "source": [
    "## Exercise 3\n",
    "### a) Minimizing $\\chi^2$\n",
    "\n",
    "Now that we have intuition about what we're trying to minimize, let's use the `scipy.optimize.minimize` function in order to find the model parameters that minimize $\\chi^2$. This is similar to what we've done in the previous notebook. Again, recall that the data and uncertainties should be *arguments* into the minimization routine, but **they are not model parameters which should be varied**.\n",
    "\n",
    "After you have found the the best-fit model parameters using `scipy.optimize.minimize`, plot a realization of that model against the data. I found the following best-fit parameters:\n",
    "    \n",
    "            Line amplitude:      4.192\n",
    "            Center frequency:   97.696\n",
    "            Line sigma:          0.126   \n",
    "            Continuum amplitude: 0.861\n",
    "Note that if you don't use bounds on $\\sigma_\\nu$, you may get a negative value. Also, report the **lowest $\\chi_\\nu^2$** score. I found a minimum of $\\chi^2 \\approx 237.66$, or $\\chi_\\nu^2 \\approx 0.94$.\n",
    "\n",
    "Your model should look something like this:\n",
    "![Exercise 3 solution](../../doc/answers/1-2_ex3a.png)\n",
    "\n",
    "### b) Residuals\n",
    "Sometimes it is helpful to visualize your **model residuals**. In the case of fitting a single Gaussian it might be trivial, but often times you will need to compare *multiple models* and select which one is best. The residuals are simply the difference between your data and model at every instance of your independent variable(s) --- in fact, we have used this in the formulation of a cost function.\n",
    "\n",
    "Use the `matplotlib` tools and other functions to plot the residuals between the *best-fit model* and the spectrum. Compare them with the average uncertainties. Your solution should look (approximately) like this:\n",
    "\n",
    "![Exercise 3b solution](../../doc/answers/1-2_ex3b.png)"
   ]
  },
  {
   "cell_type": "code",
   "execution_count": null,
   "metadata": {},
   "outputs": [],
   "source": [
    "import scipy.optimize\n",
    "\n",
    "# part a)\n",
    "# use scipy.optimize.minimize to find best-fit parameters\n",
    "# -------------------------------------------------------\n",
    "\n",
    "# hint: you'll need to supply an initial guess, so feel free\n",
    "# to use one of the sets of parameters from above\n"
   ]
  },
  {
   "cell_type": "code",
   "execution_count": null,
   "metadata": {},
   "outputs": [],
   "source": [
    "# part b)\n",
    "# complete code to find the residuals and plot them\n",
    "# alongside your estimated uncertainties below\n",
    "# --------------------------------------------------\n",
    "\n",
    "# hint: you can use `plt.fill_between` to plot a range\n",
    "# hint: `plt.axhline` can be used to draw a horizontal line"
   ]
  },
  {
   "cell_type": "markdown",
   "metadata": {},
   "source": [
    "## Fitting the spatial brightness\n",
    "\n",
    "At this point, you should know how to fit a one-dimensional model in the presence of noise. Doing the same thing in two dimensions (and even three) is very much analogous to the $1d$ case. We'll begin by fitting the image shown above, channel index 130.\n",
    "\n",
    "I have provided you with the code for modeling the brightness (which you should have completed in the previous notebook). Please make sure that you understand how the function works before proceeding!"
   ]
  },
  {
   "cell_type": "code",
   "execution_count": null,
   "metadata": {},
   "outputs": [],
   "source": [
    "def model_brightness(grid, *theta):\n",
    "    \"\"\"Given a tuple of (ii, jj) in addition to the model parameters\n",
    "    theta, which consist of the amplitude, center i and j coordinates,\n",
    "    and sigma, return a circularly symmetric 2-dimensional Gaussian.\n",
    "    \"\"\"\n",
    "    ii, jj = grid\n",
    "    amp, i0, j0, sigma = theta  \n",
    "    \n",
    "    brightness = amp * np.exp(-0.5 * ((ii-i0)**2 + (jj-j0)**2) / sigma**2)\n",
    "    \n",
    "    return brightness"
   ]
  },
  {
   "cell_type": "code",
   "execution_count": null,
   "metadata": {},
   "outputs": [],
   "source": [
    "# define a grid over which we want to build our model\n",
    "ii, jj = np.meshgrid(range(N_i), range(N_j), indexing='ij')\n",
    "\n",
    "# initialize a model with some parameters and compute residual\n",
    "k = 130\n",
    "image = noisy_cube[k]\n",
    "\n",
    "initial_brightness_params = [5, 15, 17, 3] # don't change!\n",
    " \n",
    "model = model_brightness((ii, jj), *initial_brightness_params)\n",
    "\n",
    "residuals = image - model\n",
    "\n",
    "# plot them for comparison\n",
    "from mpl_toolkits.axes_grid1 import make_axes_locatable\n",
    "\n",
    "fig, [ax1, ax2, ax3] = plt.subplots(1, 3, sharey=True, figsize=(12, 4))\n",
    "\n",
    "im1 = ax1.imshow(image, origin='lower', cmap='viridis', vmin=-3, vmax=5)\n",
    "ax1.text(0.05, 0.9, 'Data', size=14, color='black', \n",
    "         transform=ax1.transAxes, bbox={'facecolor': 'white'})\n",
    "divider = make_axes_locatable(ax1)\n",
    "cax1 = divider.append_axes('right', size='5%', pad=0.04)\n",
    "fig.colorbar(im1, cax=cax1, orientation='vertical')\n",
    "\n",
    "im2 = ax2.imshow(model, origin='lower', cmap='viridis', vmin=-3, vmax=5)\n",
    "ax2.text(0.05, 0.9, 'Model', size=14, color='black', \n",
    "         transform=ax2.transAxes, bbox={'facecolor': 'white'})\n",
    "divider = make_axes_locatable(ax2)\n",
    "cax2 = divider.append_axes('right', size='5%', pad=0.04)\n",
    "fig.colorbar(im2, cax=cax2, orientation='vertical')\n",
    "\n",
    "im3 = ax3.imshow(residuals, cmap='RdBu_r', vmin=-3, vmax=3, origin='lower')\n",
    "ax3.text(0.05, 0.9, 'Residuals', size=14, color='black', \n",
    "         transform=ax3.transAxes, bbox={'facecolor': 'white'})\n",
    "divider = make_axes_locatable(ax3)\n",
    "cax3 = divider.append_axes('right', size='5%', pad=0.04)\n",
    "fig.colorbar(im3, cax=cax3, orientation='vertical');"
   ]
  },
  {
   "cell_type": "markdown",
   "metadata": {},
   "source": [
    "## Exercise 4\n",
    "Write a $\\chi^2$ cost function for determining the goodness of fit for our spatial brightness model. Remember that when we optimized the spectral model, we also found an estimate of the best-fit peak channel ($\\nu_{0} = 97.696$ GHz). Find the channel that this corresponds to, and grab the corresponding image. In my case, the peak channel was number `127`.\n",
    "\n",
    "(If the channel is a floating-point number, then you'll need to round it to an integer if you want to use it as an index -- you may find integer casting via `int(---)` or `np.rint(---).astype(int)` helpful.)\n",
    "\n",
    "Use `scipy.minimize.optimize` to find the best-fit parameters for this channel. **You will need to supply an initial guess**; just pick reasonable looking numbers and visualize the data (with a colorbar!) if you need intuition. Plot the data, best-fitting model, and residuals. You should find parameters similar to these:\n",
    "\n",
    "    Amplitude:     5.51\n",
    "    i0:           14.52\n",
    "    j0:           18.36\n",
    "    Spatial sigma: 4.16\n",
    "    \n",
    "    chi-squared: 446.8\n",
    "    reduced chi2:  1.77\n",
    "\n",
    "My model comparison looked like this:\n",
    "![Exercise 4 solution](../../doc/answers/1-2_ex4.png)"
   ]
  },
  {
   "cell_type": "code",
   "execution_count": null,
   "metadata": {},
   "outputs": [],
   "source": [
    "def chi_squared_spatial(theta, ii, jj, image, image_uncertainty):\n",
    "    \"\"\"Given parameters and data (i.e., a grid, image (channel), \n",
    "    and uncertainty, find the chi-squared value. Note that the \n",
    "    uncertainty is a scalar while the image should be a 2d array.\n",
    "    \"\"\"\n",
    "    \n",
    "    chi2 = 0\n",
    "    \n",
    "    # complete the code below\n",
    "    # -----------------------\n",
    "    \n",
    "    return chi2"
   ]
  },
  {
   "cell_type": "code",
   "execution_count": null,
   "metadata": {},
   "outputs": [],
   "source": [
    "frequency_peak = 97.696\n",
    "\n",
    "k_peak = 0\n",
    "\n",
    "# fill out code below to find peak channel\n",
    "# ----------------------------------------\n",
    "\n",
    "\n",
    "\n",
    "# ----------------------------------------\n",
    "\n",
    "image = noisy_cube[k_peak]\n",
    "uncertainty = uncertainties[k_peak]\n",
    "\n",
    "# minimize chi_squared_spatial and find best-fit parameters\n",
    "# ---------------------------------------------------------\n",
    "\n"
   ]
  }
 ],
 "metadata": {
  "kernelspec": {
   "display_name": "Python 3",
   "language": "python",
   "name": "python3"
  },
  "language_info": {
   "codemirror_mode": {
    "name": "ipython",
    "version": 3
   },
   "file_extension": ".py",
   "mimetype": "text/x-python",
   "name": "python",
   "nbconvert_exporter": "python",
   "pygments_lexer": "ipython3",
   "version": "3.6.3"
  }
 },
 "nbformat": 4,
 "nbformat_minor": 2
}
