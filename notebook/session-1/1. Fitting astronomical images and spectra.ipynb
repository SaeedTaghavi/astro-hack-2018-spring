{
 "cells": [
  {
   "cell_type": "markdown",
   "metadata": {},
   "source": [
    "# Fitting astronomical images and spectra\n",
    "\n",
    "## What is a data cube?\n",
    "A spectral line data cube is a type of astronomical data set that usual includes one spectral dimension and two spatial dimensions. The spectral dimension may represent the physical quantities of wavelength ($\\lambda$), frequency ($\\nu$), or velocity ($v$). Generally we call the images in the spectral dimension **channels**, which then have some width, $\\Delta \\lambda$ or $\\Delta \\nu$ or $\\Delta v$. In the context of extragalactic astronomy, and usually *with respect to a particular spectral line*, these quantities are all connected by the definition of **redshift**, $z$:\n",
    "\n",
    "$$ \\frac{\\Delta v}{c} = \\frac{\\Delta \\lambda}{\\lambda_{\\rm obs}} = \\frac{\\Delta \\nu}{\\nu_{\\rm obs}},$$\n",
    "\n",
    "where $c$ is the speed of light, and for that spectral line, the observed wavelength is defined $\\lambda_{\\rm obs} = \\lambda_{\\rm rest} (1+z)$, and the observed frequency is defined $\\nu_{\\rm obs} = \\nu_{\\rm rest}/(1+z)$).\n",
    "\n",
    "## What might a galaxy spectrum look like?\n",
    "We often see a continuum component and spectral emission or absorption lines in a galaxy spectrum. This obviously will depend on the source galaxy, and at which wavelength/frequency/energy we're looking.\n",
    "\n",
    "In our case, we will consider a power-law continuum of the form\n",
    "$$ F_{\\rm \\nu}^{\\rm (cont)} = F_{\\nu, 0} \\Big(\\frac{\\nu}{\\nu_0}\\Big)^{\\alpha},$$\n",
    "where $F_{\\nu, 0}$ is the flux density at some point-of-reference frequency $\\nu_0$. $\\alpha$ is often called the **power-law slope** or **spectral index**, and this is because it is equal to the log-log slope of the flux density: $\\alpha \\equiv d \\log F_\\nu / d\\log \\nu$. Here, $\\nu_0$ is arbitrary since it covaries with $F_{\\nu, 0}$, and we can thus select a reference frequency without loss of generalization.\n",
    "\n",
    "A simple spectral line model is a Gaussian distribution:\n",
    "$$ F_{\\rm \\nu}^{\\rm (line)} = \\frac{F^{\\rm (line)}}{\\sqrt{2 \\pi \\sigma_\\nu^2}}\\exp \\Bigg [ \\frac{\\big(\\nu - \\nu_{\\rm rest}/(1+z)\\big)^2}{2\\sigma_\\nu^2}\\Bigg ]. $$\n",
    "Here $\\sigma_\\nu$ parameterizes the width of the line (usually a function of velocity dispersion), and $F^{\\rm (line)}$ is the total integrated line flux. $\\nu_{\\rm rest}/(1+z)$ is the observed (redshifted) spectral line frequency.\n",
    "\n",
    "In total, we have five degrees of freedom: $F_\\nu^{\\rm (cont)}$, $\\alpha$, $F^{\\rm (line)}$, $z$, and $\\sigma_\\nu$. For example, suppose that we have a constant continuum (e.g., no frequency dependence so that $\\alpha = 0$). We can then parameterize the **continuum + line** spectrum like\n",
    "$$F_{\\nu} = A \\exp \\Bigg [ \\frac{\\big(\\nu - \\nu_{\\rm obs}\\big)^2}{2\\sigma_{\\nu}^2} \\Bigg] + K,$$\n",
    "where $A$ is the Gaussian amplitude and proportional to the line flux, $\\nu_{\\rm obs}$ is the observed line frequency, and $\\sigma^2$ is the Gaussian variance.\n"
   ]
  },
  {
   "cell_type": "code",
   "execution_count": null,
   "metadata": {},
   "outputs": [],
   "source": [
    "# load pre-configured data\n",
    "import numpy as np\n",
    "import os\n",
    "root_dir = os.path.join(os.getcwd(), '..', '..')\n",
    "frequencies_fname = os.path.join(root_dir, 'data', 'frequencies.npy')\n",
    "noiseless_cube_fname = os.path.join(root_dir, 'data', 'noiseless_cube.npy')"
   ]
  },
  {
   "cell_type": "code",
   "execution_count": null,
   "metadata": {},
   "outputs": [],
   "source": [
    "# what are the dimensions of these arrays\n",
    "frequencies = np.load(frequencies_fname)\n",
    "print(frequencies.shape)\n",
    "\n",
    "cube = np.load(noiseless_cube_fname)\n",
    "print(cube.shape)"
   ]
  },
  {
   "cell_type": "markdown",
   "metadata": {},
   "source": [
    "### A note on Numpy ordering\n",
    "Here, the dimensions `(256, 32, 32)` signify that the zeroth axis has length `256`, and the first and second axes have length `32`. I will use the indicies `k, i, j` to describe these axes respectively.\n",
    "\n",
    "The length of the zeroth axis is actually the *third* axis in Fortran notation (I'm sorry if this is getting confusing)! All that really matters is that `256` is the length of the **spectral** axis, and that `32` $\\times$ `32` is the shape of each **image** or **channel**.\n",
    "\n",
    "If we want to visualize the spectrum, we will need to figure out how to compress the `32` $\\times$ `32` image into a single number at every frequency. This can be done by taking the mean, sum, median, selcting a particular pixel, etc."
   ]
  },
  {
   "cell_type": "code",
   "execution_count": null,
   "metadata": {},
   "outputs": [],
   "source": [
    "N_k, N_i, N_j = cube.shape\n",
    "\n",
    "# let's visualize the spectrum through pixel 16, 16\n",
    "spectrum = cube[:, 16, 16]\n",
    "\n",
    "import matplotlib.pyplot as plt\n",
    "%matplotlib inline\n",
    "\n",
    "plt.figure(figsize=(10, 4))\n",
    "plt.plot(frequencies, spectrum)\n",
    "plt.ylim(0, 8)\n",
    "\n",
    "plt.xlabel('Frequencies [GHz]')\n",
    "plt.ylabel('Spectrum');"
   ]
  },
  {
   "cell_type": "markdown",
   "metadata": {},
   "source": [
    "### Results\n",
    "In this simple example, we can see that the spectrum has a constant flux density of $\\sim 1.3$ in whatever units, and that htere is a line at a frequency slightly lower than 98 GHz. (I'm just saying that the units are in GHz but that isn't something you can tell from our data.)\n",
    "\n",
    "Next, we will work on modeling the data to see if we can estimate the model parameters, which in turn should tell us something about the astrophysical phenomena responsible for the continuum and spectral line emission."
   ]
  },
  {
   "cell_type": "markdown",
   "metadata": {},
   "source": [
    "## Exercise 1\n",
    "Write a function, `model_spectrum()`, that will output the flux density at multiple frequencies, `x` (equivalent to $\\nu$ above, according to a given set of parameters: `line_amplitude`, `line_frequency`, `line_sigma`, and `continuum_amplitude`.\n",
    "\n",
    "We will supply some parameters for the model (or mock) spectrum. Both the model and the data will be plotted in a cell below. Your answer should look something like this: ![Exercise 1 answer](../../doc/answers/1-1_ex1.png)"
   ]
  },
  {
   "cell_type": "code",
   "execution_count": null,
   "metadata": {},
   "outputs": [],
   "source": [
    "def model_spectrum(x, *parameters):\n",
    "    \"\"\"Returns an array of the same length as `x` (given) that \n",
    "    produces a model of a spectrum with a flat continuum and\n",
    "    single spectral emission line.\n",
    "    \"\"\"\n",
    "    \n",
    "    # unpack the parameters\n",
    "    line_amplitude, line_frequency, line_sigma, continuum_amplitiude = parameters\n",
    "    \n",
    "    model = np.zeros_like(x)\n",
    "    \n",
    "    # fill out code below\n",
    "    # -------------------    \n",
    "    \n",
    "    return model\n"
   ]
  },
  {
   "cell_type": "code",
   "execution_count": null,
   "metadata": {},
   "outputs": [],
   "source": [
    "# test your code\n",
    "initial_parameters = [6, 97.8, 0.1, 1.3]\n",
    "mock_spectrum = model_spectrum(frequencies, *initial_parameters)\n",
    "\n",
    "plt.figure(figsize=(12, 4))\n",
    "plt.plot(frequencies, mock_spectrum, label='Mock spectrum')\n",
    "plt.plot(frequencies, spectrum, label='Data')\n",
    "plt.ylim(0, 8)\n",
    "plt.xlabel('Frequencies [GHz]')\n",
    "plt.ylabel('Flux density [arb.]')\n",
    "plt.legend();"
   ]
  },
  {
   "cell_type": "markdown",
   "metadata": {},
   "source": [
    "## Fitting a model to the spectrum\n",
    "\n",
    "How would you fit your model to the data (spectrum) above?\n",
    "\n",
    "When we talk of fitting models to data, we generally need to minimize some *objective* or *cost* function. A simple but good choice of cost function here is the **squared error**:\n",
    "$$ J(\\vec \\theta) = \\sum_\\nu \\big |\\big | F_\\nu - \\hat y(\\nu; \\vec \\theta)  \\big | \\big|^2, $$\n",
    "where $F_\\nu$ is the spectrum at every frequency $\\nu$, and $\\hat y$ is your model (a Gaussian spectral line plus flat continuum) is a function of frequency, $\\nu$, and depends on **model parameters**, $\\vec\\theta$, from before: \n",
    "$$\\vec \\theta = \\begin{pmatrix} A\\\\ \\nu_{\\rm obs}\\\\ \\sigma_\\nu\\\\ K\\end{pmatrix}.$$"
   ]
  },
  {
   "cell_type": "markdown",
   "metadata": {},
   "source": [
    "## Exercise 2\n",
    "Implement the squared error cost function in the cell below."
   ]
  },
  {
   "cell_type": "code",
   "execution_count": null,
   "metadata": {},
   "outputs": [],
   "source": [
    "def squared_error(model_params, x, y):\n",
    "    \"\"\"Returns the sum of the squared error between the \n",
    "    data and a model constructed from the given model \n",
    "    parameters at every channel.\n",
    "    \"\"\"\n",
    "    \n",
    "    squared_error = 0\n",
    "    \n",
    "    # fill out code below\n",
    "    # -------------------\n",
    "        \n",
    "    # hint: generate a model spectrum and then take the squared error\n",
    "    \n",
    "    return squared_error"
   ]
  },
  {
   "cell_type": "markdown",
   "metadata": {},
   "source": [
    "We will evaluate the squared_error of our first model with guessed parameters. \n",
    "\n",
    "You should find that the summed square error is approximately equal to **70.5**."
   ]
  },
  {
   "cell_type": "code",
   "execution_count": null,
   "metadata": {},
   "outputs": [],
   "source": [
    "# evaluate squared error\n",
    "J = squared_error(initial_parameters, frequencies, spectrum)\n",
    "print('The squared error is {:.2f}'.format(J))"
   ]
  },
  {
   "cell_type": "markdown",
   "metadata": {},
   "source": [
    "By the way, sometimes people use the mean squared error cost function, $$J(\\vec\\theta) = \\frac{1}{N_k} \\sum_\\nu \\big|\\big| F_\\nu - \\vec y(\\nu; \\vec \\theta)\\big|\\big|^2,$$\n",
    "which only differs from the summed squared error by a factor of $N_k$, the length of the vector of frequencies. "
   ]
  },
  {
   "cell_type": "markdown",
   "metadata": {},
   "source": [
    "## Exercise 3\n",
    "Inspect the `scipy.optimize.minimize` documentation. Note that you must supply an objective function (which in our case is `squared_error` --- make sure not to include the parentheses as that would signify a function *call*), an initial guess of parameters, and other optional arguments such as bounds, a matrix of derivatives, and detailed implementations of the minimizer. Don't worry about the options for now.\n",
    "\n",
    "Execute the `scipy.optimize.minimize` command with appropriate arguments/parameters. The routine should *converge* on a global minimum. Save the output, including its final cost and **least squares** model parameter values.\n",
    "\n",
    "You should find that the best-fit model parameters are about:\n",
    "\n",
    "      line amp       =  6.0\n",
    "      line freq      = 97.8\n",
    "      line sigma     =  0.1\n",
    "      continuum amp  =  1.3"
   ]
  },
  {
   "cell_type": "code",
   "execution_count": null,
   "metadata": {},
   "outputs": [],
   "source": [
    "import scipy.optimize\n",
    "\n",
    "# execute the minimization routine below and save result\n",
    "# ------------------------------------------------------\n",
    "\n",
    "optimize_result = scipy.optimize.minimize?"
   ]
  },
  {
   "cell_type": "code",
   "execution_count": null,
   "metadata": {},
   "outputs": [],
   "source": [
    "if optimize_result['success']:\n",
    "    print('😄')\n",
    "    final_cost = optimize_result['fun']\n",
    "    final_parameters = optimize_result['x']\n",
    "    parameter_names = ['line amp', 'line freq', 'line sigma', 'continuum amp']\n",
    "    \n",
    "    print('The best-fit parameters are:')\n",
    "    for param, value in zip(parameter_names, final_parameters):\n",
    "        print('  {:<15s}= {:>4.1f}'.format(param, value))\n",
    "else:\n",
    "    print('😢')"
   ]
  },
  {
   "cell_type": "markdown",
   "metadata": {},
   "source": [
    "## What does a channel look like?\n",
    "If an astronomical source is *unresolved* -- that is, its angular size is smaller than the point-spread function (PSF) or synthesized radio beam, then its shape will be well approximated by either the PSF or the beam. In practice, these images usually take the shape of a $2d$ ellipse."
   ]
  },
  {
   "cell_type": "markdown",
   "metadata": {},
   "source": [
    "## Exercise 3\n",
    "Fill out the code below in order to plot an image of the peak channel, and mark the location of the peak channel with an `x` marker. \n",
    "1. Find `k0`, the channel number where the spectrum is at a maximum. You can do so using the function `np.nanargmax`, or by finding the minimum value of $|\\nu - \\nu_{\\rm obs}|$, where $\\nu_{\\rm obs}$ was found via least squares regression.\n",
    "2. Save the image at channel `k0` in the data cube to the variable `image` and plot it.\n",
    "3. Find `i0` and `j0`, the coordinates of the maximum pixel of `image`. This was accomplished in [notebook 0](0. Introduction to Python%2C Jupyter notebooks%2C and the Scipy stack.ipynb).\n",
    "\n",
    "Your answer should look something like ![Exercise 3 answer](../../doc/answers/1-1_ex3.png \"Peak pixel and channel in data cube\")"
   ]
  },
  {
   "cell_type": "code",
   "execution_count": null,
   "metadata": {},
   "outputs": [],
   "source": [
    "# fill out code below\n",
    "# -------------------\n",
    "k0 = 0\n",
    "image = np.zeros((N_i, N_j))\n",
    "\n",
    "i0, j0 = 0\n",
    "\n",
    "# don't change anything below this line\n",
    "# -------------------------------------\n",
    "\n",
    "plt.imshow(image, origin='lower')\n",
    "plt.colorbar()\n",
    "\n",
    "# note that ij notation is column-major, not row-major like Numpy\n",
    "plt.scatter(j0, i0, marker='x', color='C3') \n",
    "\n",
    "plt.ylabel('i')\n",
    "plt.xlabel('j')\n",
    "\n",
    "plt.show()"
   ]
  },
  {
   "cell_type": "markdown",
   "metadata": {},
   "source": [
    "## A spatial grid\n",
    "\n",
    "At this point, we are ready to make a $2d$ Gaussian model for the spatial component of the data cube, e.g., `image`. Just as we had previously used an array of frequencies over which we called the function `model_spectrum`, we will now need a $2d$ grid of positions, $i$ and $j$, which determine the pixel's value (flux density, or technically the *brightness distribution*).\n",
    "\n",
    "The function that we will use is `np.meshgrid`, which converts the vectors\n",
    "$$\\vec i = \\begin{pmatrix}1\\\\2\\\\ \\vdots \\\\ N_i\\end{pmatrix}, ~~~~~ \\vec j = \\begin{pmatrix}1\\\\2\\\\ \\vdots \\\\ N_j\\end{pmatrix},$$\n",
    "into two matrices which respectively determine the $i$ and $j$ values across the $N_i \\times N_j$ grid. This means that\n",
    "\n",
    "$$ii = \\begin{pmatrix}0&0&\\cdots&0\\\\1&1&\\cdots&1\\\\ \\vdots&\\vdots&\\ddots&\\vdots\\\\N_i&N_i&\\cdots&N_i\\end{pmatrix}, ~~~~~~~~~~\n",
    "jj = \\begin{pmatrix}0&1&\\cdots&N_j\\\\0&1&\\cdots&N_j\\\\ \\vdots&\\vdots&\\ddots&\\vdots\\\\0&1&\\cdots&N_j\\end{pmatrix}.$$"
   ]
  },
  {
   "cell_type": "code",
   "execution_count": null,
   "metadata": {},
   "outputs": [],
   "source": [
    "ii, jj = np.meshgrid(range(N_i), range(N_j), indexing='ij')"
   ]
  },
  {
   "cell_type": "markdown",
   "metadata": {},
   "source": [
    "### The spatial model\n",
    "We can imagine a simple model to describe a single channel of the unresolved astronomical source using a $2d$ circular Gaussian. The formula required is:\n",
    "\n",
    "$$ f(i,j) = A \\exp \\Bigg [ \\frac{(i-i_0)^2 + (j-j_0)^2}{2\\sigma_r^2} \\Bigg],$$\n",
    "where $A$ describes the amplitude (again), $i_0$ and $j_0$ are the $ij$-indexed center coordinates, and $\\sigma_r$ parameterizes the circular Gaussian width. Note that the amplitude in the spatial model, $A$, is the same as the amplitude of the spectral model at the brightest location in space.\n",
    "\n",
    "The brightness model parameters here are\n",
    "\n",
    "$$ \\vec \\theta = \\begin{pmatrix}A \\\\ i_0 \\\\ j_0 \\\\ \\sigma_r\\end{pmatrix}.$$ "
   ]
  },
  {
   "cell_type": "markdown",
   "metadata": {},
   "source": [
    "## Exercise 4\n",
    "Now write a function that generates a $2d$ Gaussian model of the brightness distribution similar to the figure of `image` you plotted above. Remember that your model is a function of the \"grid\" variables `ii` and `jj` as well as the model parameters. I suggest that you write it in the form\n",
    "\n",
    "    def model_brightness(grid, *theta):\n",
    "        ii, jj = grid\n",
    "        amp, i0, j0, sigma = theta\n",
    "        \n",
    "        ...\n",
    "\n",
    "such that you can later call the function using `model_brightness((ii, jj), *theta)`. This will make it much easier for future implementation using `scipy.optimize.minimize`, which requires both `ii` and `jj` but should not vary either of them! (On the other hand, the model parameters, `theta`, *should* be varied in order to minimize the objective function.)"
   ]
  },
  {
   "cell_type": "code",
   "execution_count": null,
   "metadata": {},
   "outputs": [],
   "source": [
    "def model_brightness(grid, *theta):\n",
    "    \"\"\"Given a tuple of (ii, jj) in addition to the model parameters\n",
    "    theta, which consist of the amplitude, center i and j coordinates,\n",
    "    and sigma, return a circularly symmetric 2-dimensional Gaussian.\n",
    "    \"\"\"\n",
    "    ii, jj = grid\n",
    "    amp, i0, j0, sigma = theta  \n",
    "    \n",
    "    brightness = np.zeros_like(ii)\n",
    "    \n",
    "    # complete code below\n",
    "    # -------------------\n",
    "    \n",
    "    return brightness\n",
    "    "
   ]
  },
  {
   "cell_type": "markdown",
   "metadata": {},
   "source": [
    "### Checking our answers\n",
    "Now we're going to plot a model with guessed parameters, the actual data, and a difference image between the two. It should look something like this:\n",
    "![Exercise 4 answer](../../doc/answers/1-1_ex4.png)"
   ]
  },
  {
   "cell_type": "code",
   "execution_count": null,
   "metadata": {},
   "outputs": [],
   "source": [
    "# feed guessed parameters into model\n",
    "initial_spatial_params = [8., 14, 17, 3]\n",
    "model = model_brightness((ii, jj), *initial_spatial_params)\n",
    "\n",
    "image = cube[np.nanargmax(spectrum)]\n",
    "\n",
    "difference = image - model\n",
    "\n",
    "# plotting -- don't worry too much about what's going on here\n",
    "from mpl_toolkits.axes_grid1 import make_axes_locatable\n",
    "\n",
    "fig, [ax1, ax2, ax3] = plt.subplots(1, 3, sharey=True, figsize=(12, 4))\n",
    "\n",
    "im1 = ax1.imshow(image, origin='lower', cmap='viridis')\n",
    "ax1.text(0.05, 0.9, 'Data', size=14, color='white', transform=ax1.transAxes)\n",
    "divider = make_axes_locatable(ax1)\n",
    "cax1 = divider.append_axes('right', size='5%', pad=0.04)\n",
    "fig.colorbar(im1, cax=cax1, orientation='vertical')\n",
    "\n",
    "im2 = ax2.imshow(model, origin='lower', cmap='viridis')\n",
    "ax2.text(0.05, 0.9, 'Model', size=14, color='white', transform=ax2.transAxes)\n",
    "divider = make_axes_locatable(ax2)\n",
    "cax2 = divider.append_axes('right', size='5%', pad=0.04)\n",
    "fig.colorbar(im2, cax=cax2, orientation='vertical')\n",
    "\n",
    "im3 = ax3.imshow(difference, cmap='RdBu_r', vmin=-1, vmax=1, origin='lower')\n",
    "ax3.text(0.05, 0.9, 'Data - model', size=14, color='black', transform=ax3.transAxes)\n",
    "divider = make_axes_locatable(ax3)\n",
    "cax3 = divider.append_axes('right', size='5%', pad=0.04)\n",
    "fig.colorbar(im3, cax=cax3, orientation='vertical');"
   ]
  },
  {
   "cell_type": "markdown",
   "metadata": {},
   "source": [
    "## Exercise 5\n",
    "\n",
    "Now try minimizing the squared error cost function in order to conform your spatial model to the data. Note that you will need to redefine the `squared_error` function so that it evaluates the error between the spatial data and model (not the spectral data and spectral model from before).\n",
    "\n",
    "You should find an answer like below (note that the difference image has colorbar ranging $\\pm 5 \\times 10^{-7}$!\n",
    "![Exercise 5 solution](../../doc/answers/1-1_ex5.png)"
   ]
  },
  {
   "cell_type": "code",
   "execution_count": null,
   "metadata": {},
   "outputs": [],
   "source": [
    "def squared_error(model_params, ii, jj, image):\n",
    "    \"\"\"Returns the sum of the squared error between the \n",
    "    spatial data and the model using the given brightness\n",
    "    model parameters.\n",
    "    \"\"\"\n",
    "    \n",
    "    squared_error = 0\n",
    "    \n",
    "    # fill out code below\n",
    "    # -------------------\n",
    "        \n",
    "    return squared_error"
   ]
  },
  {
   "cell_type": "code",
   "execution_count": null,
   "metadata": {},
   "outputs": [],
   "source": [
    "image = cube[np.nanargmax(spectrum)]\n",
    "\n",
    "# write code to find optimized model that describes `image`\n",
    "# ---------------------------------------------------------\n",
    "\n",
    "\n",
    "\n",
    "# plotting -- don't change code below\n",
    "final_model = model_brightness((ii, jj), *final_spatial_parameters)\n",
    "difference = image - final_model\n",
    "\n",
    "fig, [ax1, ax2, ax3] = plt.subplots(1, 3, sharey=True, figsize=(12, 4))\n",
    "\n",
    "im1 = ax1.imshow(image, origin='lower', cmap='viridis')\n",
    "ax1.text(0.05, 0.9, 'Data', size=14, color='white', transform=ax1.transAxes)\n",
    "divider = make_axes_locatable(ax1)\n",
    "cax1 = divider.append_axes('right', size='5%', pad=0.04)\n",
    "fig.colorbar(im1, cax=cax1, orientation='vertical')\n",
    "\n",
    "im2 = ax2.imshow(final_model, origin='lower', cmap='viridis')\n",
    "ax2.text(0.05, 0.9, 'Optimized model', size=14, color='white', transform=ax2.transAxes)\n",
    "divider = make_axes_locatable(ax2)\n",
    "cax2 = divider.append_axes('right', size='5%', pad=0.04)\n",
    "fig.colorbar(im2, cax=cax2, orientation='vertical')\n",
    "\n",
    "im3 = ax3.imshow(difference, cmap='RdBu_r', vmin=-5e-7, vmax=5e-7, origin='lower')\n",
    "ax3.text(0.05, 0.9, 'Data - model', size=14, color='black', transform=ax3.transAxes)\n",
    "divider = make_axes_locatable(ax3)\n",
    "cax3 = divider.append_axes('right', size='5%', pad=0.04)\n",
    "fig.colorbar(im3, cax=cax3, orientation='vertical');"
   ]
  },
  {
   "cell_type": "code",
   "execution_count": null,
   "metadata": {},
   "outputs": [],
   "source": []
  }
 ],
 "metadata": {
  "kernelspec": {
   "display_name": "Python 3",
   "language": "python",
   "name": "python3"
  },
  "language_info": {
   "codemirror_mode": {
    "name": "ipython",
    "version": 3
   },
   "file_extension": ".py",
   "mimetype": "text/x-python",
   "name": "python",
   "nbconvert_exporter": "python",
   "pygments_lexer": "ipython3",
   "version": "3.6.3"
  }
 },
 "nbformat": 4,
 "nbformat_minor": 2
}
