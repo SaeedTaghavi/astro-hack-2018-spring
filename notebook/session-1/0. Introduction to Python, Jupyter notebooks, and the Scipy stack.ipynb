{
 "cells": [
  {
   "cell_type": "markdown",
   "metadata": {},
   "source": [
    "# 0. Introduction\n",
    "\n",
    "\n",
    "Make sure that you are in the `astrohack` environment using Anaconda Python. If this is not the case -- or you have no idea what I mean by that -- follow the instructions at [this page](https://github.com/rutgers-physics-ml/astro-hack-2018-spring). Afterwards, you can deploy a Jupyter notebook by running in the `astrohack` environment:\n",
    "\n",
    "    jupyter notebook\n",
    "    \n",
    "and then navigating the directory tree:\n",
    "\n",
    "```\n",
    "astro-hack-2018-spring\n",
    "├── data\n",
    "├── doc\n",
    "├── notebook\n",
    "│   ├── session-1\n",
    "│   ├── session-2\n",
    "│   ├── session-3\n",
    "│   └── session-4\n",
    "├── results\n",
    "└── src\n",
    "```\n",
    "\n",
    "to `./notebooks/session-1` and then opening the first notebook. \n",
    "\n",
    "If everything looks good, then let's get started right away with examples. \n"
   ]
  },
  {
   "cell_type": "code",
   "execution_count": 7,
   "metadata": {},
   "outputs": [
    {
     "name": "stdout",
     "output_type": "stream",
     "text": [
      "x = 3   and is a <class 'int'>\n",
      "y = 4.5 and is a <class 'float'>\n"
     ]
    }
   ],
   "source": [
    "# variables are declared without explicit types\n",
    "x = 3\n",
    "y = 4.5\n",
    "\n",
    "print('x = {:d}   and is a {:s}'.format(x, str(type(x))))\n",
    "print('y = {:.1f} and is a {:s}'.format(y, str(type(y))))"
   ]
  },
  {
   "cell_type": "code",
   "execution_count": null,
   "metadata": {},
   "outputs": [],
   "source": []
  }
 ],
 "metadata": {
  "kernelspec": {
   "display_name": "Python 3",
   "language": "python",
   "name": "python3"
  },
  "language_info": {
   "codemirror_mode": {
    "name": "ipython",
    "version": 3
   },
   "file_extension": ".py",
   "mimetype": "text/x-python",
   "name": "python",
   "nbconvert_exporter": "python",
   "pygments_lexer": "ipython3",
   "version": "3.6.3"
  }
 },
 "nbformat": 4,
 "nbformat_minor": 2
}
