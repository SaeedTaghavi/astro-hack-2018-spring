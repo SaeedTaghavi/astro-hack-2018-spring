{
 "cells": [
  {
   "cell_type": "markdown",
   "metadata": {},
   "source": [
    "# 0. Introduction\n",
    "\n",
    "\n",
    "Make sure that you are in the `astrohack` environment using Anaconda Python. If this is not the case -- or you have no idea what I mean by that -- follow the instructions at [this page](https://github.com/rutgers-physics-ml/astro-hack-2018-spring). Afterwards, you can deploy a Jupyter notebook by running in the `astrohack` environment:\n",
    "\n",
    "    jupyter notebook\n",
    "    \n",
    "and then navigating the directory tree:\n",
    "\n",
    "```\n",
    "astro-hack-2018-spring\n",
    "├── data\n",
    "├── doc\n",
    "├── notebook\n",
    "│   ├── session-1\n",
    "│   ├── session-2\n",
    "│   ├── session-3\n",
    "│   └── session-4\n",
    "├── results\n",
    "└── src\n",
    "```\n",
    "\n",
    "to `./notebooks/session-1` and then opening the first notebook. \n",
    "\n",
    "If everything looks good, then let's get started right away with examples. \n",
    "\n",
    "## Running code\n",
    "\n",
    "There are different kinds of cells in Jupyter notebooks. This text is in a cell (using the `Markdown` typesetting language). Some cells have `In [1]:` next to them; those are `Code` cells. You can change the code in them by selecting them and then typing whatever you want. Press `<Shift-Enter>` to run the code in the cell.\n"
   ]
  },
  {
   "cell_type": "markdown",
   "metadata": {},
   "source": [
    "## Variables\n",
    "\n",
    "In Python, variables are declared without explicit types."
   ]
  },
  {
   "cell_type": "code",
   "execution_count": 1,
   "metadata": {},
   "outputs": [
    {
     "name": "stdout",
     "output_type": "stream",
     "text": [
      "x = 3 and is has type int.\n",
      "y = 4.5 and is has type float.\n"
     ]
    }
   ],
   "source": [
    "x = 3\n",
    "y = 4.5\n",
    "\n",
    "print('x = {:d} and is has type {:s}.'.format(x, type(x).__name__))\n",
    "print('y = {:.1f} and is has type {:s}.'.format(y, type(y).__name__))"
   ]
  },
  {
   "cell_type": "markdown",
   "metadata": {},
   "source": [
    "## Integers and simple operators\n",
    "\n",
    "In Python 3, integers divide as floating point numbers. In Python 2, integer division (`//`) is the default."
   ]
  },
  {
   "cell_type": "code",
   "execution_count": 2,
   "metadata": {},
   "outputs": [
    {
     "data": {
      "text/plain": [
       "1.6666666666666667"
      ]
     },
     "execution_count": 2,
     "metadata": {},
     "output_type": "execute_result"
    }
   ],
   "source": [
    "5 / 3"
   ]
  },
  {
   "cell_type": "code",
   "execution_count": 3,
   "metadata": {},
   "outputs": [
    {
     "data": {
      "text/plain": [
       "1"
      ]
     },
     "execution_count": 3,
     "metadata": {},
     "output_type": "execute_result"
    }
   ],
   "source": [
    "5 // 3"
   ]
  },
  {
   "cell_type": "code",
   "execution_count": 4,
   "metadata": {},
   "outputs": [
    {
     "data": {
      "text/plain": [
       "2"
      ]
     },
     "execution_count": 4,
     "metadata": {},
     "output_type": "execute_result"
    }
   ],
   "source": [
    "5 % 3"
   ]
  },
  {
   "cell_type": "code",
   "execution_count": 5,
   "metadata": {
    "scrolled": true
   },
   "outputs": [
    {
     "data": {
      "text/plain": [
       "16"
      ]
     },
     "execution_count": 5,
     "metadata": {},
     "output_type": "execute_result"
    }
   ],
   "source": [
    "4**2"
   ]
  },
  {
   "cell_type": "code",
   "execution_count": 6,
   "metadata": {},
   "outputs": [
    {
     "data": {
      "text/plain": [
       "64"
      ]
     },
     "execution_count": 6,
     "metadata": {},
     "output_type": "execute_result"
    }
   ],
   "source": [
    "4**3"
   ]
  },
  {
   "cell_type": "code",
   "execution_count": 7,
   "metadata": {},
   "outputs": [
    {
     "data": {
      "text/plain": [
       "4"
      ]
     },
     "execution_count": 7,
     "metadata": {},
     "output_type": "execute_result"
    }
   ],
   "source": [
    "7 - (5 - 2)"
   ]
  },
  {
   "cell_type": "markdown",
   "metadata": {},
   "source": [
    "## Lists, iterables, and loops\n",
    "\n",
    "Iterables are always 0-indexed."
   ]
  },
  {
   "cell_type": "code",
   "execution_count": 8,
   "metadata": {},
   "outputs": [
    {
     "name": "stdout",
     "output_type": "stream",
     "text": [
      "3\n",
      "-0.5\n",
      "pineapples\n"
     ]
    }
   ],
   "source": [
    "my_favorite_list = [3, -0.5, 'pineapples']\n",
    "\n",
    "print(my_favorite_list[0])\n",
    "print(my_favorite_list[1])\n",
    "print(my_favorite_list[2])"
   ]
  },
  {
   "cell_type": "code",
   "execution_count": 9,
   "metadata": {},
   "outputs": [
    {
     "name": "stdout",
     "output_type": "stream",
     "text": [
      "3\n",
      "-0.5\n",
      "pineapples\n"
     ]
    }
   ],
   "source": [
    "for i in range(0, 3):\n",
    "    print(my_favorite_list[i])"
   ]
  },
  {
   "cell_type": "code",
   "execution_count": 10,
   "metadata": {},
   "outputs": [
    {
     "name": "stdout",
     "output_type": "stream",
     "text": [
      "3\n",
      "-0.5\n",
      "pineapples\n"
     ]
    }
   ],
   "source": [
    "for item in my_favorite_list:\n",
    "    print(item)"
   ]
  },
  {
   "cell_type": "code",
   "execution_count": 11,
   "metadata": {},
   "outputs": [
    {
     "name": "stdout",
     "output_type": "stream",
     "text": [
      "3 three\n",
      "-0.5 negative zero-point-five\n",
      "pineapples 🍍\n"
     ]
    }
   ],
   "source": [
    "my_other_list = ['three', 'negative zero-point-five', '🍍']\n",
    "\n",
    "for fave, other in zip(my_favorite_list, my_other_list):\n",
    "    print(fave, other)"
   ]
  },
  {
   "cell_type": "markdown",
   "metadata": {},
   "source": [
    "Lists are mutable; i.e., they and their elements can be changed."
   ]
  },
  {
   "cell_type": "code",
   "execution_count": 12,
   "metadata": {},
   "outputs": [
    {
     "name": "stdout",
     "output_type": "stream",
     "text": [
      "['three', 'negative zero-point-five', '🍍🍍🍍']\n"
     ]
    }
   ],
   "source": [
    "my_other_list[2] = '🍍🍍🍍'\n",
    "print(my_other_list)"
   ]
  },
  {
   "cell_type": "code",
   "execution_count": 13,
   "metadata": {},
   "outputs": [
    {
     "name": "stdout",
     "output_type": "stream",
     "text": [
      "List #0 is: ['turtles', [3, 1, 4, 1, 5]], with 2 elements.\n",
      "List #1 is: [3, -0.5, 'pineapples'], with 3 elements.\n",
      "List #2 is: ['three', 'negative zero-point-five', '🍍🍍🍍'], with 3 elements.\n"
     ]
    }
   ],
   "source": [
    "we_need_to_go_deeper = [['turtles', [3, 1, 4, 1, 5]],\n",
    "                        my_favorite_list,\n",
    "                        my_other_list\n",
    "                       ]\n",
    "\n",
    "for n, list_ in enumerate(we_need_to_go_deeper):\n",
    "    print('List #{} is: {}, with {} elements.'.format(n, list_, len(list_)))"
   ]
  },
  {
   "cell_type": "markdown",
   "metadata": {},
   "source": [
    "`Lists` are one type of iterable, but so are `tuples`. `Tuples` are *immutable*."
   ]
  },
  {
   "cell_type": "code",
   "execution_count": 14,
   "metadata": {},
   "outputs": [
    {
     "name": "stdout",
     "output_type": "stream",
     "text": [
      "5\n"
     ]
    }
   ],
   "source": [
    "tup = (3, 5, 9.5)\n",
    "print(tup[1])"
   ]
  },
  {
   "cell_type": "code",
   "execution_count": 15,
   "metadata": {},
   "outputs": [],
   "source": [
    "# this will not work\n",
    "# tup[1] = -4"
   ]
  },
  {
   "cell_type": "code",
   "execution_count": 16,
   "metadata": {
    "scrolled": true
   },
   "outputs": [
    {
     "name": "stdout",
     "output_type": "stream",
     "text": [
      "(3, -4, 9.5)\n"
     ]
    }
   ],
   "source": [
    "# but they can be overwritten (re-assigned)\n",
    "tup = (3, -4, 9.5)\n",
    "print(tup)"
   ]
  },
  {
   "cell_type": "markdown",
   "metadata": {},
   "source": [
    "### Unpacking\n",
    "Any iterable can be unpacked as such:"
   ]
  },
  {
   "cell_type": "code",
   "execution_count": 17,
   "metadata": {},
   "outputs": [
    {
     "name": "stdout",
     "output_type": "stream",
     "text": [
      "9.5\n"
     ]
    }
   ],
   "source": [
    "x, y, z = tup\n",
    "print(z)"
   ]
  },
  {
   "cell_type": "markdown",
   "metadata": {},
   "source": [
    "Technically, even a string is just an iterable character array."
   ]
  },
  {
   "cell_type": "code",
   "execution_count": 18,
   "metadata": {},
   "outputs": [
    {
     "name": "stdout",
     "output_type": "stream",
     "text": [
      "h l\n"
     ]
    }
   ],
   "source": [
    "s = 'hello'\n",
    "c1, c2, c3, c4, c5 = s\n",
    "print(c1, c3)"
   ]
  },
  {
   "cell_type": "markdown",
   "metadata": {},
   "source": [
    "## Numpy\n",
    "\n",
    "Numerical Python, or numpy for short, is a Python package used for implementing arrays and numerical methods."
   ]
  },
  {
   "cell_type": "code",
   "execution_count": 19,
   "metadata": {},
   "outputs": [],
   "source": [
    "# using a package\n",
    "import numpy\n",
    "\n",
    "# or import package under an alias (shorthand)\n",
    "import numpy as np"
   ]
  },
  {
   "cell_type": "markdown",
   "metadata": {},
   "source": [
    "If you want to read the documentation, try this:"
   ]
  },
  {
   "cell_type": "code",
   "execution_count": 20,
   "metadata": {
    "scrolled": false
   },
   "outputs": [],
   "source": [
    "np.array?"
   ]
  },
  {
   "cell_type": "markdown",
   "metadata": {},
   "source": [
    "An array must contain objects of the same type (such as floats)"
   ]
  },
  {
   "cell_type": "code",
   "execution_count": 21,
   "metadata": {},
   "outputs": [
    {
     "name": "stdout",
     "output_type": "stream",
     "text": [
      "[[ 0.5 -3.   1. ]\n",
      " [ 1.2  4.5 -8. ]]\n"
     ]
    }
   ],
   "source": [
    "a = np.array([[0.5, -3., 1.],\n",
    "              [1.2, 4.5, -8]])\n",
    "\n",
    "print(a)"
   ]
  },
  {
   "cell_type": "code",
   "execution_count": 22,
   "metadata": {},
   "outputs": [
    {
     "name": "stdout",
     "output_type": "stream",
     "text": [
      "(2, 3)\n"
     ]
    }
   ],
   "source": [
    "print(a.shape)"
   ]
  },
  {
   "cell_type": "markdown",
   "metadata": {},
   "source": [
    "Numpy arrays are **row-major**, meaning that indices traverse along rows first. This is also the case for `C`. In linear algebra, `Matlab`, `Fortran`, etc., matrices are **column-major**."
   ]
  },
  {
   "cell_type": "code",
   "execution_count": 23,
   "metadata": {},
   "outputs": [
    {
     "data": {
      "text/plain": [
       "array([ 0.5, -3. ,  1. ])"
      ]
     },
     "execution_count": 23,
     "metadata": {},
     "output_type": "execute_result"
    }
   ],
   "source": [
    "a[0]"
   ]
  },
  {
   "cell_type": "code",
   "execution_count": 24,
   "metadata": {},
   "outputs": [
    {
     "data": {
      "text/plain": [
       "-3.0"
      ]
     },
     "execution_count": 24,
     "metadata": {},
     "output_type": "execute_result"
    }
   ],
   "source": [
    "a[0, 1]"
   ]
  },
  {
   "cell_type": "code",
   "execution_count": 25,
   "metadata": {},
   "outputs": [
    {
     "data": {
      "text/plain": [
       "array([[ 0.5,  1.2],\n",
       "       [-3. ,  4.5],\n",
       "       [ 1. , -8. ]])"
      ]
     },
     "execution_count": 25,
     "metadata": {},
     "output_type": "execute_result"
    }
   ],
   "source": [
    "a.transpose()"
   ]
  },
  {
   "cell_type": "code",
   "execution_count": 26,
   "metadata": {},
   "outputs": [
    {
     "name": "stdout",
     "output_type": "stream",
     "text": [
      "[1 2 3 4 5]\n",
      "[1. 2. 3. 4. 5. 6.]\n",
      "[1 2 3 4 5 6]\n"
     ]
    }
   ],
   "source": [
    "v = np.arange(1, 6, 1)\n",
    "w = np.linspace(1, 6, 6)\n",
    "print(v)\n",
    "print(w)\n",
    "print(w.astype(int))"
   ]
  },
  {
   "cell_type": "code",
   "execution_count": 27,
   "metadata": {},
   "outputs": [
    {
     "data": {
      "text/plain": [
       "array([[1],\n",
       "       [2],\n",
       "       [3],\n",
       "       [4],\n",
       "       [5]])"
      ]
     },
     "execution_count": 27,
     "metadata": {},
     "output_type": "execute_result"
    }
   ],
   "source": [
    "# this is the (rather unintuitive) way to turn a row vector into a column vector\n",
    "v[:, np.newaxis]"
   ]
  },
  {
   "cell_type": "markdown",
   "metadata": {},
   "source": [
    "Unlike in `Matlab`, simple operations take effect element-wise."
   ]
  },
  {
   "cell_type": "code",
   "execution_count": 28,
   "metadata": {},
   "outputs": [
    {
     "data": {
      "text/plain": [
       "array([[ 0.25,  9.  ,  1.  ],\n",
       "       [ 1.44, 20.25, 64.  ]])"
      ]
     },
     "execution_count": 28,
     "metadata": {},
     "output_type": "execute_result"
    }
   ],
   "source": [
    "a**2"
   ]
  },
  {
   "cell_type": "code",
   "execution_count": 29,
   "metadata": {},
   "outputs": [
    {
     "data": {
      "text/plain": [
       "array([[ 0.25,  9.  ,  1.  ],\n",
       "       [ 1.44, 20.25, 64.  ]])"
      ]
     },
     "execution_count": 29,
     "metadata": {},
     "output_type": "execute_result"
    }
   ],
   "source": [
    "a * a"
   ]
  },
  {
   "cell_type": "code",
   "execution_count": 30,
   "metadata": {},
   "outputs": [
    {
     "data": {
      "text/plain": [
       "array([[  1.69,   3.9 ,  -9.1 ],\n",
       "       [  3.9 ,  29.25, -39.  ],\n",
       "       [ -9.1 , -39.  ,  65.  ]])"
      ]
     },
     "execution_count": 30,
     "metadata": {},
     "output_type": "execute_result"
    }
   ],
   "source": [
    "# matrix multiplication\n",
    "c = np.matmul(a.transpose(), a)\n",
    "c"
   ]
  },
  {
   "cell_type": "markdown",
   "metadata": {},
   "source": [
    "Note that certain invalid operations will result in `nan`, or *not a number*. They (sort of) function like any other number..."
   ]
  },
  {
   "cell_type": "code",
   "execution_count": 31,
   "metadata": {},
   "outputs": [
    {
     "name": "stderr",
     "output_type": "stream",
     "text": [
      "/home/john/anaconda2/envs/astrohack/lib/python3.6/site-packages/ipykernel_launcher.py:1: RuntimeWarning: invalid value encountered in sqrt\n",
      "  \"\"\"Entry point for launching an IPython kernel.\n"
     ]
    },
    {
     "data": {
      "text/plain": [
       "array([[1.3       , 1.97484177,        nan],\n",
       "       [1.97484177, 5.40832691,        nan],\n",
       "       [       nan,        nan, 8.06225775]])"
      ]
     },
     "execution_count": 31,
     "metadata": {},
     "output_type": "execute_result"
    }
   ],
   "source": [
    "d = np.sqrt(c)\n",
    "d"
   ]
  },
  {
   "cell_type": "code",
   "execution_count": 32,
   "metadata": {},
   "outputs": [
    {
     "data": {
      "text/plain": [
       "array([[0.3       , 0.97484177,        nan],\n",
       "       [0.97484177, 4.40832691,        nan],\n",
       "       [       nan,        nan, 7.06225775]])"
      ]
     },
     "execution_count": 32,
     "metadata": {},
     "output_type": "execute_result"
    }
   ],
   "source": [
    "d -= 1\n",
    "d"
   ]
  },
  {
   "cell_type": "code",
   "execution_count": 33,
   "metadata": {},
   "outputs": [
    {
     "data": {
      "text/plain": [
       "array([       nan,        nan, 7.06225775])"
      ]
     },
     "execution_count": 33,
     "metadata": {},
     "output_type": "execute_result"
    }
   ],
   "source": [
    "d[2]"
   ]
  },
  {
   "cell_type": "code",
   "execution_count": 34,
   "metadata": {},
   "outputs": [
    {
     "data": {
      "text/plain": [
       "array([[ True,  True, False],\n",
       "       [ True,  True, False],\n",
       "       [False, False,  True]])"
      ]
     },
     "execution_count": 34,
     "metadata": {},
     "output_type": "execute_result"
    }
   ],
   "source": [
    "np.isfinite(d)"
   ]
  },
  {
   "cell_type": "code",
   "execution_count": 35,
   "metadata": {},
   "outputs": [
    {
     "data": {
      "text/plain": [
       "array([[ 0.3       ,  0.97484177, -1.        ],\n",
       "       [ 0.97484177,  4.40832691, -1.        ],\n",
       "       [-1.        , -1.        ,  7.06225775]])"
      ]
     },
     "execution_count": 35,
     "metadata": {},
     "output_type": "execute_result"
    }
   ],
   "source": [
    "d[np.isnan(d)] = -1\n",
    "d"
   ]
  },
  {
   "cell_type": "code",
   "execution_count": 36,
   "metadata": {},
   "outputs": [
    {
     "data": {
      "text/plain": [
       "nan"
      ]
     },
     "execution_count": 36,
     "metadata": {},
     "output_type": "execute_result"
    }
   ],
   "source": [
    "z = [0.5, -2, np.nan, 0]\n",
    "np.mean(z)"
   ]
  },
  {
   "cell_type": "code",
   "execution_count": 37,
   "metadata": {},
   "outputs": [
    {
     "data": {
      "text/plain": [
       "-0.5"
      ]
     },
     "execution_count": 37,
     "metadata": {},
     "output_type": "execute_result"
    }
   ],
   "source": [
    "np.nanmean(z)"
   ]
  },
  {
   "cell_type": "code",
   "execution_count": 38,
   "metadata": {},
   "outputs": [
    {
     "data": {
      "text/plain": [
       "0.0"
      ]
     },
     "execution_count": 38,
     "metadata": {},
     "output_type": "execute_result"
    }
   ],
   "source": [
    "np.nanmedian(z)"
   ]
  },
  {
   "cell_type": "code",
   "execution_count": 39,
   "metadata": {},
   "outputs": [
    {
     "data": {
      "text/plain": [
       "1.0801234497346435"
      ]
     },
     "execution_count": 39,
     "metadata": {},
     "output_type": "execute_result"
    }
   ],
   "source": [
    "np.nanstd(z)"
   ]
  },
  {
   "cell_type": "markdown",
   "metadata": {},
   "source": [
    "## Comparative operators and boolean logic\n",
    "\n",
    "Certain operators can be compared across different types so long as they are compatible. In Python, `True` and `False` are equivalent to `1` and `0` respectively."
   ]
  },
  {
   "cell_type": "code",
   "execution_count": 40,
   "metadata": {},
   "outputs": [],
   "source": [
    "a = 10\n",
    "b = 13.5"
   ]
  },
  {
   "cell_type": "code",
   "execution_count": 41,
   "metadata": {},
   "outputs": [
    {
     "data": {
      "text/plain": [
       "False"
      ]
     },
     "execution_count": 41,
     "metadata": {},
     "output_type": "execute_result"
    }
   ],
   "source": [
    "a == b"
   ]
  },
  {
   "cell_type": "code",
   "execution_count": 42,
   "metadata": {},
   "outputs": [
    {
     "data": {
      "text/plain": [
       "True"
      ]
     },
     "execution_count": 42,
     "metadata": {},
     "output_type": "execute_result"
    }
   ],
   "source": [
    "a <= b"
   ]
  },
  {
   "cell_type": "code",
   "execution_count": 43,
   "metadata": {},
   "outputs": [
    {
     "data": {
      "text/plain": [
       "True"
      ]
     },
     "execution_count": 43,
     "metadata": {},
     "output_type": "execute_result"
    }
   ],
   "source": [
    "1 == True"
   ]
  },
  {
   "cell_type": "code",
   "execution_count": 44,
   "metadata": {},
   "outputs": [
    {
     "data": {
      "text/plain": [
       "1"
      ]
     },
     "execution_count": 44,
     "metadata": {},
     "output_type": "execute_result"
    }
   ],
   "source": [
    "1 or False"
   ]
  },
  {
   "cell_type": "code",
   "execution_count": 45,
   "metadata": {},
   "outputs": [
    {
     "data": {
      "text/plain": [
       "True"
      ]
     },
     "execution_count": 45,
     "metadata": {},
     "output_type": "execute_result"
    }
   ],
   "source": [
    "bool(1 or False)"
   ]
  },
  {
   "cell_type": "code",
   "execution_count": 46,
   "metadata": {},
   "outputs": [
    {
     "data": {
      "text/plain": [
       "3"
      ]
     },
     "execution_count": 46,
     "metadata": {},
     "output_type": "execute_result"
    }
   ],
   "source": [
    "sum([True, True, False, True, False])"
   ]
  },
  {
   "cell_type": "markdown",
   "metadata": {},
   "source": [
    "## Making figures"
   ]
  },
  {
   "cell_type": "code",
   "execution_count": 47,
   "metadata": {},
   "outputs": [],
   "source": [
    "import matplotlib.pyplot as plt"
   ]
  },
  {
   "cell_type": "code",
   "execution_count": 48,
   "metadata": {},
   "outputs": [
    {
     "data": {
      "image/png": "[encoded data removed]",
      "text/plain": [
       "<matplotlib.figure.Figure at 0x7fc3013d8320>"
      ]
     },
     "metadata": {},
     "output_type": "display_data"
    }
   ],
   "source": [
    "x = np.linspace(0, 2*np.pi, 100)\n",
    "y = np.cos(x)\n",
    "\n",
    "plt.plot(x, y)\n",
    "\n",
    "plt.ylabel('cos($x$)')\n",
    "plt.xlabel('$x$')\n",
    "\n",
    "# this last part often isn't necessary in a Jupyter notebook\n",
    "plt.show();"
   ]
  },
  {
   "cell_type": "markdown",
   "metadata": {},
   "source": [
    "We can use the `%matplotlib notebook` command to vary how the figures appear in our notebook. For example, we can zoom in or pan around the figure. If we just want a static image, we can use `%matplotlib inline`."
   ]
  },
  {
   "cell_type": "code",
   "execution_count": 49,
   "metadata": {},
   "outputs": [],
   "source": [
    "%matplotlib inline"
   ]
  },
  {
   "cell_type": "code",
   "execution_count": 50,
   "metadata": {},
   "outputs": [
    {
     "data": {
      "image/png": "[encoded data removed]",
      "text/plain": [
       "<matplotlib.figure.Figure at 0x7fc3013146d8>"
      ]
     },
     "metadata": {},
     "output_type": "display_data"
    }
   ],
   "source": [
    "plt.plot(x, y**2)\n",
    "plt.ylabel(r'$cos^2(x)$')\n",
    "plt.xlabel('$x$'); # note that the semicolon suppresses text from appearing in the Jupyter cell"
   ]
  },
  {
   "cell_type": "code",
   "execution_count": 51,
   "metadata": {},
   "outputs": [
    {
     "data": {
      "image/png": "[encoded data removed]",
      "text/plain": [
       "<matplotlib.figure.Figure at 0x7fc301208128>"
      ]
     },
     "metadata": {},
     "output_type": "display_data"
    }
   ],
   "source": [
    "noise = np.random.randn(25, 25)\n",
    "\n",
    "plt.imshow(noise)\n",
    "plt.colorbar();"
   ]
  },
  {
   "cell_type": "markdown",
   "metadata": {},
   "source": [
    "Let's make some asthetic adjustments."
   ]
  },
  {
   "cell_type": "code",
   "execution_count": 52,
   "metadata": {},
   "outputs": [
    {
     "data": {
      "image/png": "[encoded data removed]",
      "text/plain": [
       "<matplotlib.figure.Figure at 0x7fc3011d0748>"
      ]
     },
     "metadata": {},
     "output_type": "display_data"
    }
   ],
   "source": [
    "plt.figure(figsize=(10, 8))\n",
    "plt.imshow(noise, origin='lower', cmap='RdBu_r')\n",
    "plt.colorbar();"
   ]
  },
  {
   "cell_type": "markdown",
   "metadata": {},
   "source": [
    "## Methods"
   ]
  },
  {
   "cell_type": "code",
   "execution_count": 53,
   "metadata": {},
   "outputs": [
    {
     "name": "stdout",
     "output_type": "stream",
     "text": [
      "Hello world!\n"
     ]
    }
   ],
   "source": [
    "def hello_world():\n",
    "    print('Hello world!')\n",
    "\n",
    "hello_world()"
   ]
  },
  {
   "cell_type": "code",
   "execution_count": 54,
   "metadata": {},
   "outputs": [
    {
     "name": "stdout",
     "output_type": "stream",
     "text": [
      "Hello Nebuchadnezzar!\n"
     ]
    }
   ],
   "source": [
    "def say_hello(name):\n",
    "    \"\"\"Prints `Hello, <name>!`\"\"\"\n",
    "    print('Hello {}!'.format(name))\n",
    "    \n",
    "say_hello('Nebuchadnezzar')"
   ]
  },
  {
   "cell_type": "code",
   "execution_count": 55,
   "metadata": {},
   "outputs": [
    {
     "name": "stdout",
     "output_type": "stream",
     "text": [
      "Hello John Wu!\n"
     ]
    }
   ],
   "source": [
    "# note: we can not overload a method this way\n",
    "def say_hello(first_name, last_name):\n",
    "    \"\"\"Prints `Hello, <first> <last>!\"\"\"\n",
    "    print('Hello {} {}!'.format(first_name, last_name))\n",
    "\n",
    "my_name = ('John', 'Wu')\n",
    "\n",
    "# the asterisk means that the tuple should be unpacked into two separate and unnamed variables\n",
    "say_hello(*my_name)"
   ]
  },
  {
   "cell_type": "markdown",
   "metadata": {},
   "source": [
    "Similarly, we can write methods that return objects (or `float` or `int`, etc.)"
   ]
  },
  {
   "cell_type": "code",
   "execution_count": 56,
   "metadata": {},
   "outputs": [],
   "source": [
    "def median_absolute_deviation(vec):\n",
    "    \"\"\"Returns the median absolute deviation (MAD) of a series of numbers.\n",
    "    MAD := median(|vec - median(vec)|), where `|` denotes absolute values.\n",
    "    \"\"\"\n",
    "    \n",
    "    MAD = np.nanmedian(np.abs(vec - np.nanmedian(vec)))\n",
    "    \n",
    "    return MAD"
   ]
  },
  {
   "cell_type": "code",
   "execution_count": 57,
   "metadata": {},
   "outputs": [
    {
     "name": "stdout",
     "output_type": "stream",
     "text": [
      "Median absolute deviations: 1.5\n",
      "Standard deviations: 432008768.7422445\n"
     ]
    }
   ],
   "source": [
    "vec = (np.pi, np.e, -1, 0.5, np.cos(8.), 0., np.nan, 1234567890)\n",
    "\n",
    "print('Median absolute deviations: {}'.format(median_absolute_deviation(vec)))\n",
    "print('Standard deviations: {}'.format(np.nanstd(vec)))"
   ]
  },
  {
   "cell_type": "markdown",
   "metadata": {},
   "source": [
    "# Manipulating numpy arrays"
   ]
  },
  {
   "cell_type": "code",
   "execution_count": 58,
   "metadata": {},
   "outputs": [
    {
     "data": {
      "text/plain": [
       "array([ 0.35326723,  0.29284434,  0.68816462,  0.83262778, -0.02652893,\n",
       "        0.52332427,  0.45669523,  0.43653058,  0.37754403, -0.66068887,\n",
       "        0.31559313, -1.51166835, -0.17541024,  0.31713893,  0.03670422,\n",
       "        0.34151233, -0.58149669, -0.0664502 ,  1.01795866,  0.3101665 ,\n",
       "       -0.72282337,  0.69266537,  1.06493033,  0.03218383,  1.00210877,\n",
       "        0.90315092,  0.41579025, -0.83178215,  0.03087592, -0.04926525,\n",
       "       -0.41710417, -0.14479561, -0.18899246, -0.70689552,  0.97491561,\n",
       "       -0.5738088 , -0.07536692, -1.03672931,  0.63468831, -0.19652499])"
      ]
     },
     "execution_count": 58,
     "metadata": {},
     "output_type": "execute_result"
    }
   ],
   "source": [
    "a = np.random.randn(3, 40)\n",
    "\n",
    "# If a has shape (3, 40), then taking a mean along the axis 0 will result in a length-40 array\n",
    "np.mean(a, axis=0)\n",
    "\n",
    "# taking the mean along the axis 1 would result in a length-3 array"
   ]
  },
  {
   "cell_type": "code",
   "execution_count": 59,
   "metadata": {},
   "outputs": [
    {
     "data": {
      "image/png": "[encoded data removed]",
      "text/plain": [
       "<matplotlib.figure.Figure at 0x7fc300ecdf98>"
      ]
     },
     "metadata": {},
     "output_type": "display_data"
    }
   ],
   "source": [
    "# visualizing the above\n",
    "for j, row in enumerate(a):\n",
    "    plt.plot(row, ls='--', alpha=0.7, label='Row {}'.format(j))\n",
    "\n",
    "plt.plot(np.mean(a, axis=0), c='black', lw=3, label='average')\n",
    "plt.legend();"
   ]
  },
  {
   "cell_type": "markdown",
   "metadata": {},
   "source": [
    "## Exercise 1\n",
    "Let's suppose that you receive a two dimensional array. You can assume that this array may have negative numbers and even `nan` values in it. Write a function that lets you find the indices of where the maximum pixel is located. So, if the array is of size (64, 64), and the peak pixel is at i=31, j=27, then it should return a tuple (31, 27)."
   ]
  },
  {
   "cell_type": "code",
   "execution_count": 60,
   "metadata": {},
   "outputs": [],
   "source": [
    "def find_peak_pixel_indices(array):\n",
    "    \"\"\"Finds the indices of the maximum pixel in a given array.\n",
    "    \"\"\"\n",
    "    \n",
    "    # fill out code below and replace i, j with correct answer\n",
    "    # --------------------------------------------------------\n",
    "    \n",
    "    i, j = 0, 0\n",
    "    \n",
    "    # hint: look at the documentation for the functions:\n",
    "    #  np.nanargmax\n",
    "    #  np.unravel_index\n",
    "       \n",
    "    return i, j\n"
   ]
  },
  {
   "cell_type": "code",
   "execution_count": 61,
   "metadata": {},
   "outputs": [
    {
     "name": "stdout",
     "output_type": "stream",
     "text": [
      "😢\n"
     ]
    },
    {
     "data": {
      "image/png": "[encoded data removed]",
      "text/plain": [
       "<matplotlib.figure.Figure at 0x7fc300efd4e0>"
      ]
     },
     "metadata": {},
     "output_type": "display_data"
    }
   ],
   "source": [
    "# don't change this\n",
    "i0, j0 = 31, 27\n",
    "\n",
    "# uniformly distributed noise in interval [0, 0.3)\n",
    "mat = 0.3 * np.random.random((64, 64))\n",
    "\n",
    "# plus obvious peak at location i0, j0\n",
    "mat[i0, j0] = 1\n",
    "\n",
    "plt.imshow(mat, origin='lower');\n",
    "\n",
    "# testing your code\n",
    "if (i0, j0) == find_peak_pixel_indices(mat):\n",
    "    print('😄')\n",
    "else:\n",
    "    print('😢')"
   ]
  },
  {
   "cell_type": "markdown",
   "metadata": {},
   "source": [
    "## Exercise 2\n",
    "Now write a function that returns an un-normalized gaussian (or normal distribution) with given parameters: mean, $\\mu$, around which the distribution is symmetric, and some variance $\\sigma^2$ equal to the square of the standard deviation. The formula for an un-normalized gaussian is:\n",
    "\n",
    "$$ f(x) = \\exp \\Bigg [ \\frac{-( x - \\mu )^2}{2 \\sigma^2} \\Bigg ]. $$\n",
    "\n",
    "In the exercise below, $x$ will be a one-dimensional array, representing the domain over which the gaussian function, $f(x)$ should be calculated."
   ]
  },
  {
   "cell_type": "code",
   "execution_count": 62,
   "metadata": {},
   "outputs": [],
   "source": [
    "def gaussian(x, mu, variance):\n",
    "    \"\"\"Returns an array of the same length as `x` (given) according\n",
    "    to the parameters `mu` and `variance`.\n",
    "    \"\"\"\n",
    "    \n",
    "    # fill out code below and replace f with answer\n",
    "    # ---------------------------------------------\n",
    "    \n",
    "    f = np.zeros_like(x)\n",
    "    \n",
    "    # hint: can you add or subtract a single number from an array?\n",
    "    #   can you call np.exp to exponential every value in an array?\n",
    "    \n",
    "    return f"
   ]
  },
  {
   "cell_type": "code",
   "execution_count": 63,
   "metadata": {
    "scrolled": false
   },
   "outputs": [
    {
     "data": {
      "image/png": "[encoded data removed]",
      "text/plain": [
       "<matplotlib.figure.Figure at 0x7fc301013c88>"
      ]
     },
     "metadata": {},
     "output_type": "display_data"
    }
   ],
   "source": [
    "# don't change this\n",
    "gaussian_params_1 = (0, 2**2)\n",
    "gaussian_params_2 = (2, 1**2)\n",
    "\n",
    "x = np.linspace(-6, 6, 100)\n",
    "f1 = gaussian(x, *gaussian_params_1)\n",
    "f2 = gaussian(x, *gaussian_params_2)\n",
    "plt.plot(x, f1, label=r'$\\mu={:d}, \\sigma^2={:d}$'.format(*gaussian_params_1))\n",
    "plt.plot(x, f2, label=r'$\\mu={:d}, \\sigma^2={:d}$'.format(*gaussian_params_2))\n",
    "\n",
    "plt.legend();"
   ]
  },
  {
   "cell_type": "code",
   "execution_count": null,
   "metadata": {},
   "outputs": [],
   "source": []
  }
 ],
 "metadata": {
  "kernelspec": {
   "display_name": "Python 3",
   "language": "python",
   "name": "python3"
  },
  "language_info": {
   "codemirror_mode": {
    "name": "ipython",
    "version": 3
   },
   "file_extension": ".py",
   "mimetype": "text/x-python",
   "name": "python",
   "nbconvert_exporter": "python",
   "pygments_lexer": "ipython3",
   "version": "3.6.3"
  }
 },
 "nbformat": 4,
 "nbformat_minor": 2
}
